{
  "nbformat": 4,
  "nbformat_minor": 0,
  "metadata": {
    "colab": {
      "provenance": [],
      "include_colab_link": true
    },
    "kernelspec": {
      "name": "python3",
      "display_name": "Python 3"
    },
    "language_info": {
      "name": "python"
    }
  },
  "cells": [
    {
      "cell_type": "markdown",
      "metadata": {
        "id": "view-in-github",
        "colab_type": "text"
      },
      "source": [
        "<a href=\"https://colab.research.google.com/github/eKeiran/astro-codes/blob/main/Practical_Statistics.ipynb\" target=\"_parent\"><img src=\"https://colab.research.google.com/assets/colab-badge.svg\" alt=\"Open In Colab\"/></a>"
      ]
    },
    {
      "cell_type": "markdown",
      "source": [
        "# Frequentist vs Bayesian: philosophical distinction\n",
        "\n",
        "### <ins>Frequentist statistical inference</ins>\n",
        "*   Probabilities of relative frequency of measurements\n",
        "*   Physical parameters are fixed, constant, and unknown\n",
        "\n",
        "### <ins>Bayesian statistical inference</ins>\n",
        "*   Probability distribution of physical parameters\n",
        "*   Degrees of uncertainty of physical parameters; can be updated!"
      ],
      "metadata": {
        "id": "YFpSU-6a5369"
      }
    },
    {
      "cell_type": "code",
      "source": [],
      "metadata": {
        "id": "STOvcIOctnw6"
      },
      "execution_count": null,
      "outputs": []
    },
    {
      "cell_type": "markdown",
      "source": [
        "\n",
        "\n",
        "---\n",
        "\n"
      ],
      "metadata": {
        "id": "lcwXAbi_Ui9c"
      }
    },
    {
      "cell_type": "markdown",
      "source": [
        "# Practical Bayesian inference example\n",
        "A problem with two state random variable"
      ],
      "metadata": {
        "id": "JzagudMp6QTT"
      }
    },
    {
      "cell_type": "markdown",
      "source": [
        "### <ins>Problem Statement\n",
        "\n",
        "*   A disease or infection that is prevalent in 3% of the population\n",
        "*   A test for positive or negative identification of the disease<br>\n",
        "    – In sick people it tests positive 90% of the time: P(positive|sick) = 0.9<br>\n",
        "    – In healthy people it tests negative 85% of the time: P(negative|healthy) = 0.85\n",
        "\n",
        "Q. What is the probability that a person testing positive is infected?\n"
      ],
      "metadata": {
        "id": "DZlHFADlKVj_"
      }
    },
    {
      "cell_type": "markdown",
      "source": [
        "### <ins>The probability matrix\n",
        "\n",
        "|            | **Sick**     | **Healthy** |\n",
        "| :---       |  :----:  |   ---:  |\n",
        "| **Positive**   | 0.9      | 0.15    |\n",
        "| **Negative**   | 0.1      | 0.85    |"
      ],
      "metadata": {
        "id": "LpPjOVoALBRm"
      }
    },
    {
      "cell_type": "markdown",
      "source": [
        "### <ins>Frequentist vs Bayesian question<br>\n",
        "<mark>Frequentist</mark>: What is the probability of testing positive given one is healthy?<br>\n",
        "<mark>Bayesian</mark>: What is the probability that one is sick after having tested positive?\n"
      ],
      "metadata": {
        "id": "g0Pxu71WMkYk"
      }
    },
    {
      "cell_type": "markdown",
      "source": [
        "### <ins>Computation for when tested positive</ins>\n",
        "\n",
        "Probability of infered condition given an observed state\n",
        "\n",
        "*   $$P(\\text{Sick}|\\text{positive}) = \\frac{0.9}{(0.9+0.15)}$$\n",
        "\n",
        "*   $$P(\\text{Healthy}|\\text{positive}) = \\frac{0.15}{(0.9+0.15)}$$\n",
        "\n",
        "Incorporating prior information<br>\n",
        "$$P(\\text{Sick}) = 0.03$$\n",
        "$$P(\\text{Healthy}) = 0.97$$\n",
        "$$\\implies$$\n",
        "\n",
        "*   $$P(\\text{Sick}|\\text{positive}) = \\frac{(0.9\\times0.03)}{(0.9\\times0.03+0.15\\times0.97)} = 0.16$$\n",
        "\n",
        "*   $$P(\\text{Healthy}|\\text{positive}) = \\frac{(0.15\\times0.97)}{(0.9\\times0.03+0.15\\times0.97)} = 0.84$$\n",
        "\n",
        "\n"
      ],
      "metadata": {
        "id": "cG-2rcdbNLzu"
      }
    },
    {
      "cell_type": "markdown",
      "source": [
        "### <ins>General formula\n",
        "$$P(\\text{Sick}|\\text{positive}) = \\frac{P(\\text{positive}|\\text{Sick})\\cdot P(\\text{Sick})}{\\left[P(\\text{positive}|\\text{Sick})+P(\\text{positive}|\\text{Healthy})\\right]}$$<br><br>\n",
        "<ins>Bayes' theorem</ins>\n",
        "Posterior probability of model parameters $\\theta$ for observed data $D$,\n",
        "$$P(\\theta|D) = \\frac{P(D|\\theta)\\cdot P(\\theta)}{P(D)}$$\n",
        "where,\n",
        "$P(D|\\theta)$ is the likelihood,<br>\n",
        "$P(\\theta)$ is the prior probability of model parameters, and<br>\n",
        "$P(D)$ is the probability of the data (normalization)"
      ],
      "metadata": {
        "id": "SjBERudURfnM"
      }
    },
    {
      "cell_type": "markdown",
      "source": [
        "\n",
        "\n",
        "---\n",
        "\n"
      ],
      "metadata": {
        "id": "B-rcpcrpUe1V"
      }
    },
    {
      "cell_type": "markdown",
      "source": [
        "# Generalization to continuous variable"
      ],
      "metadata": {
        "id": "_9j6-KfQ6Zwv"
      }
    },
    {
      "cell_type": "markdown",
      "source": [
        "<ins>Example:</ins> Measuring flux from a source or spectrum<br>\n",
        "Bayesian: What is the probability distribution of the source flux given a set of observations?\n"
      ],
      "metadata": {
        "id": "fZV649d6QS6F"
      }
    },
    {
      "cell_type": "markdown",
      "source": [
        "### <ins>Probabilities matrix\n",
        "\n",
        "\n",
        "*   Health $\\Longleftrightarrow$ True flux<br>\n",
        "    Sick, Healthy $\\Longleftrightarrow$ Range of possible source flux values\n",
        "\n",
        "*   Test $\\Longleftrightarrow$ Observed flux<br>\n",
        "    Positive, Negative $\\Longleftrightarrow$ Range of possible observed flux values\n",
        "\n",
        "*   Probability distributions: probability of observing a flux value given a source flux<br>\n",
        "    $P(\\text{positive}|\\text{Sick})\\Longleftrightarrow P(\\text{f}_\\text{obs}|~\\text{F}_\\text{true})$\n",
        "\n",
        "*   $$P(\\text{Sick}~|~\\text{positive}) = \\frac{P(\\text{positive}~|~\\text{Sick})\\cdot P(\\text{Sick})}{P(\\text{positive}~|~\\text{Sick})+P(\\text{positive}~|~\\text{Healthy})}$$\n",
        "$\\Longleftrightarrow$\n",
        "    \n",
        "$$P(\\text{F}_\\text{true}~|~\\text{f}_\\text{obs}) = \\frac{P(\\text{f}_\\text{obs}~|~\\text{F}_\\text{true})\\cdot P(\\text{F}_\\text{true})}{\\left[\\sum_\\text{F}P(\\text{f}_\\text{obs}~|~\\text{F}_\\text{true})\\cdot P(\\text{F}_\\text{true})\\right]}$$\n",
        "\n",
        "What is the probable source flux given an observed flux?"
      ],
      "metadata": {
        "id": "Y4khrVbPQav6"
      }
    },
    {
      "cell_type": "markdown",
      "source": [
        "# Python introduction tasks"
      ],
      "metadata": {
        "id": "FsS6e5r56luy"
      }
    },
    {
      "cell_type": "markdown",
      "source": [
        "\n",
        "1. Colab introduction\n",
        "2. Import libraries\n",
        "3. Load and read data\n",
        "4. Data manipulation\n",
        "5. Plotting data and printing results"
      ],
      "metadata": {
        "id": "5R20pPrt9G5D"
      }
    },
    {
      "cell_type": "markdown",
      "source": [
        "\n",
        "### Importing libaries\n",
        "<ins>Some basic libraries:</ins><br>\n",
        "Modules for simple math and random number generators\n",
        "```\n",
        "import math\n",
        "import random\n",
        "```\n",
        "<ins>Data handling and array computations libaries:</ins><br>\n",
        "Pandas for data storage and manupulation<br>\n",
        "Numpy for mathematical operations with large arrays\n",
        "```\n",
        "import pandas as pd\n",
        "import numpy as np\n",
        "```\n",
        "<ins>Scientific computing libraries:</ins><br>\n",
        "Scipy for general-purpose scientific computing\n",
        "Astropy for specialized astronomy-themed computations\n",
        "```\n",
        "import scipy as scp\n",
        "import astropy.constants as asc\n",
        "```\n",
        "<ins>Plotting libraries:</ins><br>\n",
        "Matplotlib for plotting\n",
        "```\n",
        "import matplotlib.pyplot as plt\n",
        "```"
      ],
      "metadata": {
        "id": "aI5-iwD6zCNI"
      }
    },
    {
      "cell_type": "markdown",
      "source": [
        "# Simple statistical computation in Python"
      ],
      "metadata": {
        "id": "hEqzO4zC6vS-"
      }
    },
    {
      "cell_type": "markdown",
      "source": [
        "<ins>Initializing task</ins>\n",
        "\n",
        "Import libaries for\n",
        "\n",
        "*   Array manipulation/computations\n",
        "*   Scientific computing\n",
        "*   Plotting\n",
        "\n",
        "<mark>User input required!!</mark>"
      ],
      "metadata": {
        "id": "zdTGaKfe3UwN"
      }
    },
    {
      "cell_type": "code",
      "source": [
        "# Library for random number generator\n",
        "import random\n",
        "# Library for array manipulation/computation\n",
        "import numpy as np\n",
        "# Library for scientific computing\n",
        "import scipy as scp\n",
        "# Library for plotting modules\n",
        "import matplotlib.pyplot as plt"
      ],
      "metadata": {
        "id": "Jd1oxmvA31Jm"
      },
      "execution_count": 1,
      "outputs": []
    },
    {
      "cell_type": "markdown",
      "source": [
        "## Flux measurements"
      ],
      "metadata": {
        "id": "hdALZiTy8m5e"
      }
    },
    {
      "cell_type": "markdown",
      "source": [
        "<ins>Tasks</ins>\n",
        "\n",
        "1.   Generate flux data by deciding on the number of data points, a true flux value, and the sampling distribution\n",
        "2.   Evaluate the uncertainties of the flux values\n",
        "\n",
        "<ins>Algorithm</ins>\n",
        "\n",
        "1.   Set true flux and number of data points\n",
        "2.   Pick the statistic for generating data (e.g., [Poisson](https://docs.scipy.org/doc/scipy/reference/generated/scipy.stats.poisson.html)) and generate flux values from the distribution (using scipy.stats modules)\n",
        "3.   Compute the uncertainties for the generated data by taking the [square root](https://numpy.org/doc/stable/reference/generated/numpy.sqrt.html) of the data values\n",
        "\n",
        "<mark>User input required!!</mark>"
      ],
      "metadata": {
        "id": "umWs2b_X3KPM"
      }
    },
    {
      "cell_type": "code",
      "source": [
        "# True flux (F_true) and number of measuremets (N)\n",
        "F_true = 1000\n",
        "N = 50"
      ],
      "metadata": {
        "id": "fj08Rw_s8vhd"
      },
      "execution_count": 2,
      "outputs": []
    },
    {
      "cell_type": "code",
      "source": [
        "# scipy.stats.poisson.rvs(mu, size=1)\n",
        "flux = scp.stats.poisson.rvs(F_true, size=N)\n",
        "sigma = np.sqrt(flux)"
      ],
      "metadata": {
        "id": "-FEB9Ei85qnE"
      },
      "execution_count": 3,
      "outputs": []
    },
    {
      "cell_type": "markdown",
      "source": [
        "## Visualize data"
      ],
      "metadata": {
        "id": "QXV7t0Yb8rF4"
      }
    },
    {
      "cell_type": "markdown",
      "source": [
        "<ins>Algorithm</ins>\n",
        "\n",
        "1.   Initialize a figure class that holds plot elements\n",
        "2.   Use a plotting method to plot observed flux values with error bars\n",
        "3.   Add axes titles\n",
        "\n",
        "<mark>User input required!!</mark>"
      ],
      "metadata": {
        "id": "cZUMYdES7RuD"
      }
    },
    {
      "cell_type": "code",
      "source": [
        "# Initialize a figure class that holds plot elements\n",
        "fig = plt.figure()\n",
        "ax = plt.axes()\n",
        "# Plot the flux values with error bars\n",
        "ax.errorbar( np.arange(N), flux, yerr=sigma , fmt='ok', ecolor='gray', alpha=0.5)\n",
        "## Add X-axis and Y-axis labels\n",
        "plt.xlabel(\"Observation number\")\n",
        "plt.ylabel(\"Flux (counts)\")\n",
        "txt = plt.title(\"Observed fluxes\")"
      ],
      "metadata": {
        "id": "8Ymnwq-38wAD",
        "colab": {
          "base_uri": "https://localhost:8080/",
          "height": 472
        },
        "outputId": "cfacffa8-311a-48df-f412-4bc288c225c8"
      },
      "execution_count": 4,
      "outputs": [
        {
          "output_type": "display_data",
          "data": {
            "text/plain": [
              "<Figure size 640x480 with 1 Axes>"
            ],
            "image/png": "[encoded data removed]"
          },
          "metadata": {}
        }
      ]
    },
    {
      "cell_type": "markdown",
      "source": [
        "## Computing the flux using Frequentist (Maximum Likelihood) method"
      ],
      "metadata": {
        "id": "e8D6bttq8t6O"
      }
    },
    {
      "cell_type": "markdown",
      "source": [
        "1.   Probability of measuring a flux $f_i$ given a true flux $F_\\text{true}$,\n",
        "$$P(f_i~|~F_{\\rm true}) = \\frac{1}{\\sqrt{2\\pi \\sigma_i^2}} \\exp{\\left[-\\frac{(f_i - F_{\\rm true})^2}{2 \\sigma_i^2}\\right]}$$\n",
        "2.   Likelihood function for the observed data points,\n",
        "$$\\mathtt{L}(f~|~F_\\text{true}) = \\prod_i P(f_i~|~F_{\\rm true})$$\n",
        "3. Taking the logarithm of the function to deal with very small values,\n",
        "$$\\log\\mathtt{L} = -\\frac{1}{2}\\sum_i\\left[\\log(2\\pi\\sigma_i^2)+\\frac{(f_i-F_\\text{true})^2}{\\sigma_i^2}\\right]$$\n",
        "4. Maximizing likelihood by taking the derivative w.r.t $F_\\text{true}$ and setting it to zero, the condition for maximum likelihood is, the estimate of the true value,\n",
        "$$F_\\text{est} = \\frac{\\sum w_if_i}{\\sum w_i};\\qquad w_i = \\frac{1}{\\sigma_i^2}$$,\n",
        "and the uncertainty on the estimate,\n",
        "$$\\sigma_\\text{est}=\\sqrt\\frac{1}{\\left(\\sum_i w_i\\right)}$$\n",
        "\n",
        "<ins>Frequentist inference</ins>: In the limit of large number of repeated observations, 68\\% of the observed flux values will lie within the range $F_\\text{est}\\pm\\sigma_\\text{est}$.\n",
        "\n",
        "[Normal distribution](https://en.wikipedia.org/wiki/68%E2%80%9395%E2%80%9399.7_rule#/media/File:Empirical_rule_histogram.svg)\n",
        "\n",
        "\n"
      ],
      "metadata": {
        "id": "Adm_BP3eKhZN"
      }
    },
    {
      "cell_type": "markdown",
      "source": [
        "<ins>Algorithm</ins>\n",
        "\n",
        "1.   Compute inverse variance (sigma [squared](https://numpy.org/doc/stable/reference/generated/numpy.square.html)) and store in variable $w$\n",
        "2.   Estimate the maximum likelihood flux value and the (1-sigma) uncertainty (Numpy arrays are multiplied element-wise by a*b; Sum over the array using [np.sum](https://numpy.org/doc/stable/reference/generated/numpy.sum.html))\n",
        "3. Print the inferred result\n",
        "\n",
        "<mark>User input required!!</mark>"
      ],
      "metadata": {
        "id": "rg1FJygb8sxx"
      }
    },
    {
      "cell_type": "code",
      "source": [
        "# Compute inverse variance square\n",
        "w = 1.0/np.square(sigma)\n",
        "# Estimate the maximum likelihood flux value and the (1-sigma) uncertainty\n",
        "F_est = np.sum(w*flux)/np.sum(w)\n",
        "sigma_est = np.sqrt(1/np.sum(w))"
      ],
      "metadata": {
        "id": "ApGVLUl28jZw"
      },
      "execution_count": 6,
      "outputs": []
    },
    {
      "cell_type": "code",
      "source": [
        "# Print the frequentist inferred result\n",
        "print('Based on {0} measurements, 68% of repeated flux measurements will lie in the range {1:.0f}±{2:.0f}'.format(N,F_est,sigma_est))"
      ],
      "metadata": {
        "id": "q8OrM89ZfKtf",
        "colab": {
          "base_uri": "https://localhost:8080/"
        },
        "outputId": "177ba0c4-8422-4694-ecf6-deabb948c9ca"
      },
      "execution_count": 7,
      "outputs": [
        {
          "output_type": "stream",
          "name": "stdout",
          "text": [
            "Based on 50 measurements, 68% of repeated flux measurements will lie in the range 1001±4\n"
          ]
        }
      ]
    },
    {
      "cell_type": "markdown",
      "source": [
        "## Computing the flux using Bayesian method"
      ],
      "metadata": {
        "id": "U8NFy4DK82gU"
      }
    },
    {
      "cell_type": "markdown",
      "source": [
        "1.   From Bayes' theorem, the posterior probability of the true flux, $F_\\text{true}$,\n",
        "$$P(\\text{F}_\\text{true}~|~\\text{f}_\\text{obs}) = \\frac{P(\\text{f}_\\text{obs}~|~\\text{F}_\\text{true})\\cdot P(\\text{F}_\\text{true})}{\\left[\\sum_\\text{F}P(\\text{f}_\\text{obs}~|~\\text{F}_\\text{true})\\cdot P(\\text{F}_\\text{true})\\right]}$$\n",
        "\n",
        "2.   $P(\\text{F}_\\text{true})$ is the prior knowledge of the true flux which, in the absence of prior knowledge, may be taken as a uniform distribution over any flux value. $P(\\text{F}_\\text{true})\\propto1$\n",
        "\n",
        "3. $P(\\text{f}_\\text{obs}~|~\\text{F}_\\text{true})$ is the likelihood function\n",
        "$$\\log\\mathtt{L} = -\\frac{1}{2}\\sum_i\\left[\\log(2\\pi\\sigma_i^2)+\\frac{(f_i-F_\\text{true})^2}{\\sigma_i^2}\\right]$$\n",
        "\n",
        "\n",
        "4. Since the denominator term corresponds to a normalization, and is independent of $F_\\text{true}$,\n",
        "$$P(\\text{F}_\\text{true}~|~\\text{f}_\\text{obs}) \\propto P(\\text{f}_\\text{obs}~|~\\text{F}_\\text{true})\\cdot P(\\text{F}_\\text{true})$$,\n",
        "or equivalently,\n",
        "$$\\log P(\\text{F}_\\text{true}~|~\\text{f}_\\text{obs}) \\propto \\log P(\\text{f}_\\text{obs}~|~\\text{F}_\\text{true}) + \\log P(\\text{F}_\\text{true})$$\n"
      ],
      "metadata": {
        "id": "FerTo1FDgsS7"
      }
    },
    {
      "cell_type": "markdown",
      "source": [
        "<ins>Algorithm</ins>\n",
        "1.   'Define' methods to compute the log of the<br>\n",
        "      (a) prior distribution for given model parameters<br>\n",
        "      Uniform if no prior knowledge<br>\n",
        "      (b) likelihood function for given model parameters and data<br>\n",
        "      Using methods for [squaring](https://numpy.org/doc/stable/reference/generated/numpy.square.html), [log](https://numpy.org/doc/stable/reference/generated/numpy.log.html), and [summing](https://numpy.org/doc/stable/reference/generated/numpy.sum.html)<br>\n",
        "      (c) non-normalized posterior distribution\n",
        "2.   Use Markov Chain Monte Carlo (MCMC) methods to sample the posterior distribution<br>\n",
        "      (a) Set the number of model parameters (`ndim`), the number of sampling chains (walkers – `nwalkers`), and the length of the chain (number of walker steps – `nsteps`)<br>\n",
        "      (b) Use `EnsembleSampler` from the emcee package to initialize the sampler, provide starting guesses for parameters, and `run_mcmc` method to sample the posterior<br>\n",
        "      (c) Combine the returned samples from the sampler after removing the initial burn-in lengths\n",
        "5.   Plot the posterior distribution<br>\n",
        "     A [histrogram](https://matplotlib.org/stable/api/_as_gen/matplotlib.pyplot.hist.html) works well for visualizing the ditribution of samples.\n",
        "6.   Determine a characteristic value (e.g., [median](https://numpy.org/doc/stable/reference/generated/numpy.median.html)) and credible intervals (10%–90% [limits](https://numpy.org/doc/stable/reference/generated/numpy.percentile.html)) to characterize the distribution"
      ],
      "metadata": {
        "id": "EVPmICLgl-FG"
      }
    },
    {
      "cell_type": "markdown",
      "source": [
        "<mark>User input required!!</mark>"
      ],
      "metadata": {
        "id": "1mqOHMyzztgQ"
      }
    },
    {
      "cell_type": "code",
      "source": [
        "#log of prior distribution for given model parameters\n",
        "def log_prior(theta):\n",
        "    return\n",
        "\n",
        "# log likelihood function for given model parameters and data\n",
        "def log_likelihood(theta, flux, sigma):\n",
        "    return\n",
        "\n",
        "# log of posterior distribution\n",
        "def log_posterior(theta, flux, sigma):\n",
        "    return"
      ],
      "metadata": {
        "id": "wjWP-duL85ME"
      },
      "execution_count": null,
      "outputs": []
    },
    {
      "cell_type": "code",
      "source": [
        "ndim =         # number of model parameters (F_true)\n",
        "nwalkers =     # number of MCMC walkers (say 30)\n",
        "nsteps =       # number of MCMC steps to take (a few thousands)"
      ],
      "metadata": {
        "id": "zrtTPuOlsFeX"
      },
      "execution_count": null,
      "outputs": []
    },
    {
      "cell_type": "markdown",
      "source": [
        "<ins>emcee – The Markov chain Monte Carlo (MCMC) Ensemble sampler</ins>\n",
        "\n",
        "The emcee [Ensemble Sampler](https://emcee.readthedocs.io/en/stable/user/sampler/) is initialized by passing the number of walkers, number of parameters (dimensionality), log posterior probability function, a list of arguments passed to the log prob function in addition to the model parameter array, in our case the data.\n",
        "```\n",
        "sampler = emcee.EnsembleSampler(nwalkers, ndim, log_posterior, args=[])\n",
        "```\n",
        "The sampling is undertaken by calling the [run_mcmc](https://emcee.readthedocs.io/en/stable/user/sampler/#emcee.EnsembleSampler.run_mcmc) method of the emcee Ensemble Sampler\n",
        "```\n",
        "sampler.run_mcmc(initial_state, nsteps)\n",
        "```\n",
        "The `initial_state` is a set of starting guesses for the model parameters with some randomness introduced across the samplers/walkers. The array has a dimension of (nwalkers, ndim), and can be generated by using the [numpy.random](https://numpy.org/doc/stable/reference/random/generated/numpy.random.rand.html) methods.\n",
        "\n",
        "The results of the mcmc runs will be stored in the `sampler` variable and the samples can be accessed using the [get_chain](https://emcee.readthedocs.io/en/stable/user/sampler/#emcee.EnsembleSampler.get_chain) method."
      ],
      "metadata": {
        "id": "Pnf9fZigvrta"
      }
    },
    {
      "cell_type": "code",
      "source": [
        "import emcee"
      ],
      "metadata": {
        "id": "GAb1-aTBDZqp"
      },
      "execution_count": null,
      "outputs": []
    },
    {
      "cell_type": "markdown",
      "source": [
        "<mark>User input required!!</mark>"
      ],
      "metadata": {
        "id": "59Ar1aMizvUh"
      }
    },
    {
      "cell_type": "code",
      "source": [
        "# Initial guesses for the model parameter – F_true\n",
        "initial_state = 2 * F_true * np.random.rand(nwalkers, ndim)\n",
        "\n",
        "# Initialize the sampler\n",
        "sampler =\n",
        "\n",
        "# Run the sampler\n",
        "sampler.run_mcmc(, progress=True)"
      ],
      "metadata": {
        "id": "MQCElAiatrRQ"
      },
      "execution_count": null,
      "outputs": []
    },
    {
      "cell_type": "code",
      "source": [
        "# Plot the walker/sampler steps\n",
        "fig, ax = plt.subplots(1, figsize=(10, 3), sharex=True)\n",
        "samples = sampler.get_chain()\n",
        "ax.set_ylabel(\"flux\")\n",
        "ax.set_xlabel(\"step number\")\n",
        "p = ax.plot(samples[:,:,0], \"k\", alpha=0.3)"
      ],
      "metadata": {
        "id": "aMPCL5Vbz6KZ"
      },
      "execution_count": null,
      "outputs": []
    },
    {
      "cell_type": "markdown",
      "source": [
        "Use [`get_chain`](https://emcee.readthedocs.io/en/stable/user/sampler/#emcee.EnsembleSampler.get_chain) method of the sampler to discard non-steady initial values, reduce the total number of samples, and \"flatten\" by combining walker steps/samples for each parameter"
      ],
      "metadata": {
        "id": "ef_d1Vi9eiJT"
      }
    },
    {
      "cell_type": "code",
      "source": [
        "# Discard initial length of chains before stabilization\n",
        "flat_samples = sampler.get_chain()"
      ],
      "metadata": {
        "id": "ILpwFj-J08vL"
      },
      "execution_count": null,
      "outputs": []
    },
    {
      "cell_type": "markdown",
      "source": [
        "## Plotting the posterior probability distribution"
      ],
      "metadata": {
        "id": "WK-RV6xU851V"
      }
    },
    {
      "cell_type": "markdown",
      "source": [
        "<mark>User input required!!</mark>"
      ],
      "metadata": {
        "id": "9OPRQmklzw3E"
      }
    },
    {
      "cell_type": "code",
      "source": [
        "# plot a histogram of the posterior distribution samples\n",
        "plt.hist( , bins=, histtype=\"stepfilled\", alpha=0.3, normed=True)\n",
        "plt.xlabel(\" \")\n",
        "plt.ylabel(\" \")\n",
        "plt.show()"
      ],
      "metadata": {
        "id": "SJuOBVgt88hl"
      },
      "execution_count": null,
      "outputs": []
    },
    {
      "cell_type": "code",
      "source": [
        "# Median value of the posterior distribution\n",
        "F_med =\n",
        "# 10% – 90% credible limit (10–90 percentiles)\n",
        "F_10 =\n",
        "F_90 =\n",
        "# Print\n",
        "print('The median flux value is {0:.0f} and the 10–90% credible limit is {1:.0f}–{2:.0f}'.format(F_med,F_10,F_90))"
      ],
      "metadata": {
        "id": "F2ZUisOs8Zxx"
      },
      "execution_count": null,
      "outputs": []
    },
    {
      "cell_type": "markdown",
      "source": [
        "## Propagation of uncertainties"
      ],
      "metadata": {
        "id": "EJvH4FWG883X"
      }
    },
    {
      "cell_type": "markdown",
      "source": [
        "Let us define a magnitude for the observed flux as\n",
        "$$M_\\text{arb} = -2.5\\log(F)$$\n",
        "What is the probable value of the magnitude, for the observed flux above?"
      ],
      "metadata": {
        "id": "tLC1jCshqt-g"
      }
    },
    {
      "cell_type": "code",
      "source": [],
      "metadata": {
        "id": "5DZXXcg78_ut"
      },
      "execution_count": null,
      "outputs": []
    },
    {
      "cell_type": "markdown",
      "source": [
        "# References\n",
        "\n",
        "\n",
        "1.   https://jakevdp.github.io/blog/2014/03/11/frequentism-and-bayesianism-a-practical-intro/\n",
        "2.   https://betterexplained.com/articles/an-intuitive-and-short-explanation-of-bayes-theorem/\n",
        "\n"
      ],
      "metadata": {
        "id": "72KVPLxCgCIo"
      }
    }
  ]
}